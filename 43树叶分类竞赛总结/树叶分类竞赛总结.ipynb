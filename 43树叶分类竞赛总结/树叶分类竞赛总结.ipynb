{
 "cells": [
  {
   "cell_type": "markdown",
   "metadata": {},
   "source": [
    "#### 技术分析\n",
    "\n",
    "主要进行的加强：\n",
    "\n",
    "- 数据增强，在测试时多次使用稍弱的增强然后取平均（增强后预测多次投票）\n",
    "- 使用多个模型预测，最后结果加权平均\n",
    "    - 有使用10种模型的，也有使用单一模型的\n",
    "- 训练算法和学习率\n",
    "- 清理数据"
   ]
  },
  {
   "cell_type": "markdown",
   "metadata": {},
   "source": []
  }
 ],
 "metadata": {
  "language_info": {
   "name": "python"
  },
  "orig_nbformat": 4
 },
 "nbformat": 4,
 "nbformat_minor": 2
}
