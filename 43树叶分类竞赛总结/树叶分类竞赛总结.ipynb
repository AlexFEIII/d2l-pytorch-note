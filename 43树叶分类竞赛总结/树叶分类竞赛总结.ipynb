{
 "cells": [
  {
   "cell_type": "markdown",
   "metadata": {},
   "source": [
    "#### 技术分析\n",
    "\n",
    "**主要进行的加强：**\n",
    "\n",
    "- 数据增强，在测试时多次使用稍弱的增强然后取平均（增强后预测多次对Softmax输出结果作平均）\n",
    "- 使用多个模型预测，最后结果加权平均\n",
    "    - 有使用10种模型的，也有使用单一模型的\n",
    "- 训练算法和学习率\n",
    "- 清理数据\n",
    "\n",
    "**数据方面：**\n",
    "\n",
    "- 有重复图片，可以手动去除\n",
    "- 图片背景较多，而且树叶没有方向性，可以做更多增强\n",
    "    - 随即旋转，更大的剪裁\n",
    "- 跨图片增强：\n",
    "    - Mixup：随机叠加两张图片\n",
    "    - CutMix：随机组合来自不同图片的块\n",
    "\n",
    "**模型方面**\n",
    "\n",
    "- 模型多为ResNet变种：\n",
    "    - DenseNet, ResNeXt, ResNeSt, ...\n",
    "        - DenseNet:\n",
    "            ResNet是相加，DenseNet是并在一起\n",
    "    - EfficientNet:\n",
    "        可以认为是ResNet调参（拉长一点，变宽一点）\n",
    "- 优化算法多为Adam或其变种\n",
    "    1. SGD仔细调参会得到Adam更好的结果\n",
    "    2. Adam对学习率不敏感，不用调效果也还行\n",
    "- 学习率一般是Cosine或训练不动时往下调\n",
    "\n",
    "**在工业界应用中**\n",
    "\n",
    "- 少使用模型融合和测试时增强，计算代价过高\n",
    "- 通常固定模型超参数，而将精力主要花在提升数据质量"
   ]
  },
  {
   "cell_type": "markdown",
   "metadata": {},
   "source": []
  }
 ],
 "metadata": {
  "language_info": {
   "name": "python"
  },
  "orig_nbformat": 4
 },
 "nbformat": 4,
 "nbformat_minor": 2
}
