{
 "cells": [
  {
   "cell_type": "markdown",
   "metadata": {},
   "source": [
    "![1](images/1.jpg)\n",
    "\n",
    "兴趣区域 （RoI）池化层（可以应用到全连接）\n",
    "\n",
    "Mask R-CNN在无人车中应用多\n",
    "\n",
    "Mask R-CNN、Faster R-CNN常用于精度要求高的场景\n",
    "\n",
    "<br/>\n",
    "Yolo：\n",
    "\n",
    "注：是$ s \\times s $ 个锚框，长宽不一定相同\n",
    "\n",
    "![2](images/2.jpg)"
   ]
  },
  {
   "cell_type": "code",
   "execution_count": null,
   "metadata": {},
   "outputs": [],
   "source": []
  }
 ],
 "metadata": {
  "language_info": {
   "name": "python"
  },
  "orig_nbformat": 4
 },
 "nbformat": 4,
 "nbformat_minor": 2
}
