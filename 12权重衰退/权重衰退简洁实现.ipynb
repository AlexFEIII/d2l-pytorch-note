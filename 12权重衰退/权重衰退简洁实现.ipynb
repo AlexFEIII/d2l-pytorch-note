{
 "cells": [
  {
   "cell_type": "code",
   "execution_count": 1,
   "metadata": {},
   "outputs": [],
   "source": [
    "import torch\n",
    "from torch import nn\n",
    "from d2l import torch as d2l\n"
   ]
  },
  {
   "cell_type": "code",
   "execution_count": null,
   "metadata": {},
   "outputs": [],
   "source": [
    "num_inputs = 100\n",
    "net = nn.Sequential(nn.Linear(num_inputs, 1))\n",
    "trainer = torch.optim.SGD(\n",
    "    [\n",
    "        {\n",
    "            \"params\": net[0].weight,\n",
    "            \"weight_decay\": wd # 设定伐（就是限制），就是完整实现中的lambd，通常会选 1e-3\n",
    "        },\n",
    "        {\n",
    "            \"params\": net[0].bias\n",
    "        }\n",
    "    ],\n",
    "    lr = lr\n",
    ")"
   ]
  }
 ],
 "metadata": {
  "interpreter": {
   "hash": "5961c1f676d41e3107b987a88563c83ef53a9477bd0aeae680aa09bb0e6bf12b"
  },
  "kernelspec": {
   "display_name": "Python 3.9.1 64-bit",
   "language": "python",
   "name": "python3"
  },
  "language_info": {
   "codemirror_mode": {
    "name": "ipython",
    "version": 3
   },
   "file_extension": ".py",
   "mimetype": "text/x-python",
   "name": "python",
   "nbconvert_exporter": "python",
   "pygments_lexer": "ipython3",
   "version": "3.9.1"
  },
  "orig_nbformat": 4
 },
 "nbformat": 4,
 "nbformat_minor": 2
}
