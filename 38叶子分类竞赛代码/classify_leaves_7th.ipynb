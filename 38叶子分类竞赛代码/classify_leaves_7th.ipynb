{
 "cells": [
  {
   "cell_type": "code",
   "execution_count": 1,
   "metadata": {},
   "outputs": [
    {
     "name": "stdout",
     "output_type": "stream",
     "text": [
      "Collecting ttach\n",
      "  Downloading ttach-0.0.3-py3-none-any.whl (9.8 kB)\n",
      "Installing collected packages: ttach\n",
      "Successfully installed ttach-0.0.3\n"
     ]
    },
    {
     "name": "stderr",
     "output_type": "stream",
     "text": [
      "WARNING: You are using pip version 20.2.3; however, version 21.3.1 is available.\n",
      "You should consider upgrading via the 'f:\\python\\python.exe -m pip install --upgrade pip' command.\n"
     ]
    }
   ],
   "source": [
    "# 一个用于数据增强的库\n",
    "!pip3 install ttach"
   ]
  },
  {
   "cell_type": "code",
   "execution_count": 3,
   "metadata": {},
   "outputs": [
    {
     "name": "stdout",
     "output_type": "stream",
     "text": [
      "Collecting git+https://github.com/ildoonet/cutmix\n",
      "  Cloning https://github.com/ildoonet/cutmix to c:\\users\\administrator\\appdata\\local\\temp\\pip-req-build-gk2b3229\n",
      "Building wheels for collected packages: cutmix\n",
      "  Building wheel for cutmix (setup.py): started\n",
      "  Building wheel for cutmix (setup.py): finished with status 'done'\n",
      "  Created wheel for cutmix: filename=cutmix-0.1-py3-none-any.whl size=3634 sha256=8fce46120ab298e8710163f401bf4f97a2da957cfa9259522b51cf847b7a248e\n",
      "  Stored in directory: C:\\Users\\Administrator\\AppData\\Local\\Temp\\pip-ephem-wheel-cache-s6i6dtwx\\wheels\\c1\\ad\\32\\560cafd2fbc9d7a2df4f0bd4f50b4f9d6c9a707bae5034d8b3\n",
      "Successfully built cutmix\n",
      "Installing collected packages: cutmix\n",
      "Successfully installed cutmix-0.1\n"
     ]
    },
    {
     "name": "stderr",
     "output_type": "stream",
     "text": [
      "WARNING: You are using pip version 20.2.3; however, version 21.3.1 is available.\n",
      "You should consider upgrading via the 'f:\\python\\python.exe -m pip install --upgrade pip' command.\n"
     ]
    }
   ],
   "source": [
    "# 也是一个用于数据增强的库：https://blog.csdn.net/weixin_38715903/article/details/103999227\n",
    "!pip3 install git+https://github.com/ildoonet/cutmix\n"
   ]
  },
  {
   "cell_type": "code",
   "execution_count": 4,
   "metadata": {},
   "outputs": [
    {
     "name": "stdout",
     "output_type": "stream",
     "text": [
      "Collecting resnest"
     ]
    },
    {
     "name": "stderr",
     "output_type": "stream",
     "text": [
      "WARNING: You are using pip version 20.2.3; however, version 21.3.1 is available.\n",
      "You should consider upgrading via the 'f:\\python\\python.exe -m pip install --upgrade pip' command.\n"
     ]
    },
    {
     "name": "stdout",
     "output_type": "stream",
     "text": [
      "\n",
      "  Downloading resnest-0.0.6b20211215-py3-none-any.whl (49 kB)\n",
      "Requirement already satisfied: numpy in f:\\python\\lib\\site-packages (from resnest) (1.19.3)\n",
      "Requirement already satisfied: Pillow in f:\\python\\lib\\site-packages (from resnest) (8.4.0)\n",
      "Requirement already satisfied: torch>=1.0.0 in f:\\python\\lib\\site-packages (from resnest) (1.8.1+cu111)\n",
      "Collecting iopath\n",
      "  Downloading iopath-0.1.9-py3-none-any.whl (27 kB)\n",
      "Collecting fvcore\n",
      "  Downloading fvcore-0.1.5.post20211023.tar.gz (49 kB)\n",
      "Requirement already satisfied: tqdm in f:\\python\\lib\\site-packages (from resnest) (4.56.0)\n",
      "Collecting nose\n",
      "  Downloading nose-1.3.7-py3-none-any.whl (154 kB)\n",
      "Requirement already satisfied: scipy in f:\\python\\lib\\site-packages (from resnest) (1.6.0)\n",
      "Requirement already satisfied: requests in f:\\python\\lib\\site-packages (from resnest) (2.25.1)\n",
      "Requirement already satisfied: typing-extensions in f:\\python\\lib\\site-packages (from torch>=1.0.0->resnest) (3.7.4.3)\n",
      "Collecting portalocker\n",
      "  Downloading portalocker-2.3.2-py2.py3-none-any.whl (15 kB)\n",
      "Collecting yacs>=0.1.6\n",
      "  Downloading yacs-0.1.8-py3-none-any.whl (14 kB)\n",
      "Requirement already satisfied: pyyaml>=5.1 in f:\\python\\lib\\site-packages (from fvcore->resnest) (5.4.1)\n",
      "Collecting termcolor>=1.1\n",
      "  Downloading termcolor-1.1.0.tar.gz (3.9 kB)\n",
      "Collecting tabulate\n",
      "  Downloading tabulate-0.8.9-py3-none-any.whl (25 kB)\n",
      "Requirement already satisfied: chardet<5,>=3.0.2 in f:\\python\\lib\\site-packages (from requests->resnest) (4.0.0)\n",
      "Requirement already satisfied: urllib3<1.27,>=1.21.1 in f:\\python\\lib\\site-packages (from requests->resnest) (1.26.3)\n",
      "Requirement already satisfied: idna<3,>=2.5 in f:\\python\\lib\\site-packages (from requests->resnest) (2.10)\n",
      "Requirement already satisfied: certifi>=2017.4.17 in f:\\python\\lib\\site-packages (from requests->resnest) (2020.12.5)\n",
      "Requirement already satisfied: pywin32>=226; platform_system == \"Windows\" in f:\\python\\lib\\site-packages (from portalocker->iopath->resnest) (300)\n",
      "Building wheels for collected packages: fvcore, termcolor\n",
      "  Building wheel for fvcore (setup.py): started\n",
      "  Building wheel for fvcore (setup.py): finished with status 'done'\n",
      "  Created wheel for fvcore: filename=fvcore-0.1.5.post20211023-py3-none-any.whl size=60943 sha256=4965dbbbd32d0d27e93affefc50d17eae9688684548ec84796cf88d73b3fc0c1\n",
      "  Stored in directory: c:\\users\\administrator\\appdata\\local\\pip\\cache\\wheels\\66\\9b\\ff\\ea7cdc5923ebb9b09b17810059748c1772141fcb3f590b5c76\n",
      "  Building wheel for termcolor (setup.py): started\n",
      "  Building wheel for termcolor (setup.py): finished with status 'done'\n",
      "  Created wheel for termcolor: filename=termcolor-1.1.0-py3-none-any.whl size=4829 sha256=e847b8b44714483c3455912e58de0da3f5f81b86775e1e62be2b07b4e61807d4\n",
      "  Stored in directory: c:\\users\\administrator\\appdata\\local\\pip\\cache\\wheels\\b6\\0d\\90\\0d1bbd99855f99cb2f6c2e5ff96f8023fad8ec367695f7d72d\n",
      "Successfully built fvcore termcolor\n",
      "Installing collected packages: portalocker, iopath, yacs, termcolor, tabulate, fvcore, nose, resnest\n",
      "Successfully installed fvcore-0.1.5.post20211023 iopath-0.1.9 nose-1.3.7 portalocker-2.3.2 resnest-0.0.6b20211215 tabulate-0.8.9 termcolor-1.1.0 yacs-0.1.8\n"
     ]
    }
   ],
   "source": [
    "# 安装ResNeSt模型包\n",
    "!pip3 install resnest --pre"
   ]
  },
  {
   "cell_type": "code",
   "execution_count": 5,
   "metadata": {},
   "outputs": [],
   "source": [
    "# 导入各种包\n",
    "import torch\n",
    "import torch.nn as nn\n",
    "from torch.nn import functional as F\n",
    "import ttach as tta\n",
    "from resnest.torch import resnest50\n",
    "\n",
    "from cutmix.cutmix import CutMix\n",
    "from cutmix.utils import CutMixCrossEntropyLoss\n",
    "\n",
    "import pandas as pd\n",
    "import numpy as np\n",
    "from torch.utils.data import Dataset, DataLoader, TensorDataset\n",
    "from torchvision import transforms\n",
    "from torch.optim.lr_scheduler import CosineAnnealingLR\n",
    "from sklearn.model_selection import KFold\n",
    "from PIL import Image\n",
    "import os\n",
    "import matplotlib.pyplot as plt\n",
    "import torchvision.models as models\n",
    "# This is for the progress bar.\n",
    "from tqdm import tqdm\n"
   ]
  },
  {
   "cell_type": "code",
   "execution_count": null,
   "metadata": {},
   "outputs": [],
   "source": []
  }
 ],
 "metadata": {
  "interpreter": {
   "hash": "5961c1f676d41e3107b987a88563c83ef53a9477bd0aeae680aa09bb0e6bf12b"
  },
  "kernelspec": {
   "display_name": "Python 3.9.1 64-bit",
   "language": "python",
   "name": "python3"
  },
  "language_info": {
   "codemirror_mode": {
    "name": "ipython",
    "version": 3
   },
   "file_extension": ".py",
   "mimetype": "text/x-python",
   "name": "python",
   "nbconvert_exporter": "python",
   "pygments_lexer": "ipython3",
   "version": "3.9.1"
  },
  "orig_nbformat": 4
 },
 "nbformat": 4,
 "nbformat_minor": 2
}
