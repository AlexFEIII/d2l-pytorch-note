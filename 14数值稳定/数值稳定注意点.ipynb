{
 "cells": [
  {
   "cell_type": "markdown",
   "metadata": {},
   "source": [
    "## 让训练更稳定\n",
    "\n",
    "### 目标：让梯度在合理的范围内：[1e-6, 1e3]\n",
    "\n",
    "### 常用思路\n",
    "\n",
    "#### 将乘法变加法\n",
    "\n",
    "ResNet, LSTM\n",
    "\n",
    "#### 归一化\n",
    "\n",
    "梯度归一化，梯度裁剪\n",
    "\n",
    "#### 合理的权重初始和激活函数\n",
    "\n",
    "1. 让每层的输出和梯度都看作随机变量\n",
    "\n",
    "2. 让它们的均值和方差都保持一致\n",
    "\n",
    "通过推导可以得出，激活函数需要近似x，即$ f(x)=x $\n",
    "由于\n",
    "\n",
    "$ sigmoid(x) = \\frac{1}{2} + \\frac{x}{4} + \\frac{x^3}{48} + O(x^5)  $ \n",
    "\n",
    "所以，可以调整 sigmoid 至 $：4 \\times sigmoid(x) - 2 $\n"
   ]
  },
  {
   "cell_type": "code",
   "execution_count": null,
   "metadata": {},
   "outputs": [],
   "source": []
  }
 ],
 "metadata": {
  "language_info": {
   "name": "python"
  },
  "orig_nbformat": 4
 },
 "nbformat": 4,
 "nbformat_minor": 2
}
